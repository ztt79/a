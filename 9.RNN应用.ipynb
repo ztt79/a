{
 "cells": [
  {
   "cell_type": "markdown",
   "metadata": {},
   "source": [
    "![](https://raw.githubusercontent.com/Qinbf/tf-model-zoo/master/README_IMG/01.jpg)\n",
    "AI MOOC： **www.ai-xlab.com**  \n",
    "如果你也是AI爱好者，可以添加我的微信一起交流：**sdxxqbf**"
   ]
  },
  {
   "cell_type": "code",
   "execution_count": null,
   "metadata": {},
   "outputs": [],
   "source": [
    "import numpy as np\n",
    "from keras.datasets import mnist\n",
    "from keras.utils import np_utils\n",
    "from keras.models import Sequential\n",
    "from keras.layers import Dense\n",
    "from keras.layers.recurrent import SimpleRNN\n",
    "from keras.optimizers import Adam"
   ]
  },
  {
   "cell_type": "code",
   "execution_count": 4,
   "metadata": {},
   "outputs": [
    {
     "name": "stdout",
     "output_type": "stream",
     "text": [
      "Epoch 1/10\n",
      "60000/60000 [==============================] - 11s - loss: 1.5499 - acc: 0.4872    \n",
      "Epoch 2/10\n",
      "60000/60000 [==============================] - 10s - loss: 0.8541 - acc: 0.7455    \n",
      "Epoch 3/10\n",
      "60000/60000 [==============================] - 10s - loss: 0.6293 - acc: 0.8202    \n",
      "Epoch 4/10\n",
      "60000/60000 [==============================] - 10s - loss: 0.5120 - acc: 0.8553    \n",
      "Epoch 5/10\n",
      "60000/60000 [==============================] - 10s - loss: 0.4458 - acc: 0.8738    \n",
      "Epoch 6/10\n",
      "60000/60000 [==============================] - 10s - loss: 0.4044 - acc: 0.8843    \n",
      "Epoch 7/10\n",
      "60000/60000 [==============================] - 10s - loss: 0.3750 - acc: 0.8929    \n",
      "Epoch 8/10\n",
      "60000/60000 [==============================] - 10s - loss: 0.3525 - acc: 0.8992    \n",
      "Epoch 9/10\n",
      "60000/60000 [==============================] - 10s - loss: 0.3334 - acc: 0.9037    \n",
      "Epoch 10/10\n",
      "60000/60000 [==============================] - 10s - loss: 0.3179 - acc: 0.9087    \n",
      " 9664/10000 [===========================>..] - ETA: 0stest loss 0.309194719088\n",
      "test accuracy 0.9134\n"
     ]
    }
   ],
   "source": [
    "# 数据长度-一行有28个像素\n",
    "input_size = 28\n",
    "# 序列长度-一共有28行\n",
    "time_steps = 28\n",
    "# 隐藏层cell个数\n",
    "cell_size = 50 \n",
    "\n",
    "# 载入数据\n",
    "(x_train,y_train),(x_test,y_test) = mnist.load_data()\n",
    "# (60000,28,28)\n",
    "x_train = x_train/255.0\n",
    "x_test = x_test/255.0\n",
    "# 换one hot格式\n",
    "y_train = np_utils.to_categorical(y_train,num_classes=10)\n",
    "y_test = np_utils.to_categorical(y_test,num_classes=10)#one hot\n",
    "\n",
    "# 创建模型\n",
    "model = Sequential()\n",
    "\n",
    "# 循环神经网络\n",
    "model.add(SimpleRNN(\n",
    "    units = cell_size, # 输出\n",
    "    input_shape = (time_steps,input_size), #输入\n",
    "))\n",
    "\n",
    "# 输出层\n",
    "model.add(Dense(10,activation='softmax'))\n",
    "\n",
    "# 定义优化器\n",
    "adam = Adam(lr=1e-4)\n",
    "\n",
    "# 定义优化器，loss function，训练过程中计算准确率\n",
    "model.compile(optimizer=adam,loss='categorical_crossentropy',metrics=['accuracy'])\n",
    "\n",
    "# 训练模型\n",
    "model.fit(x_train,y_train,batch_size=64,epochs=10)\n",
    "\n",
    "# 评估模型\n",
    "loss,accuracy = model.evaluate(x_test,y_test)\n",
    "\n",
    "print('test loss',loss)\n",
    "print('test accuracy',accuracy)"
   ]
  },
  {
   "cell_type": "markdown",
   "metadata": {
    "collapsed": true
   },
   "source": [
    "<h3 align = \"center\">欢迎大家关注我的公众号，或者加我的微信与我交流。</h3>\n",
    "<center><img src=\"wx.png\" alt=\"FAO\" width=\"300\"></center> "
   ]
  },
  {
   "cell_type": "code",
   "execution_count": null,
   "metadata": {
    "collapsed": true
   },
   "outputs": [],
   "source": []
  }
 ],
 "metadata": {
  "anaconda-cloud": {},
  "kernelspec": {
   "display_name": "Python 3",
   "language": "python",
   "name": "python3"
  },
  "language_info": {
   "codemirror_mode": {
    "name": "ipython",
    "version": 3
   },
   "file_extension": ".py",
   "mimetype": "text/x-python",
   "name": "python",
   "nbconvert_exporter": "python",
   "pygments_lexer": "ipython3",
   "version": "3.6.5"
  }
 },
 "nbformat": 4,
 "nbformat_minor": 2
}
